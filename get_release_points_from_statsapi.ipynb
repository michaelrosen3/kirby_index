{
 "cells": [
  {
   "cell_type": "code",
   "execution_count": 2,
   "id": "2f71c80a",
   "metadata": {},
   "outputs": [],
   "source": [
    "import pandas as pd\n",
    "import numpy as np\n",
    "import pybaseball as pyb\n",
    "import matplotlib.pyplot as plt\n",
    "import seaborn as sns\n",
    "from math import sqrt, atan2, degrees, pi, atan\n",
    "from scipy.stats import percentileofscore"
   ]
  },
  {
   "cell_type": "code",
   "execution_count": 3,
   "id": "ae4a5c7a",
   "metadata": {},
   "outputs": [],
   "source": [
    "fsl_data = pd.read_excel('/Users/michaelrosen/Desktop/kirby_index/fsl_data_filtered.xlsx')"
   ]
  },
  {
   "cell_type": "code",
   "execution_count": 4,
   "id": "f964c443",
   "metadata": {},
   "outputs": [],
   "source": [
    "def get_release_points(data): \n",
    "    # Perform the calculations\n",
    "    data['cy'] = 60.5 - data['pitchData.extension']\n",
    "    data['y0'] = 50\n",
    "    data['t0'] = -(-data['pitchData.coordinates.vY0'] - np.sqrt(data['pitchData.coordinates.vY0']**2 - 4 * (data['pitchData.coordinates.aY'] / 2) * (data['y0'] - data['cy']))) / (2 * (data['pitchData.coordinates.aY'] / 2))\n",
    "    data['bx'] = data['pitchData.coordinates.vX0'] + (-data['t0']) * data['pitchData.coordinates.aX']\n",
    "    data['release_pos_x'] = data['pitchData.coordinates.x0'] + (-data['t0']) * data['pitchData.coordinates.vX0'] + ((-data['t0'])**2) * data['pitchData.coordinates.aX'] / 2\n",
    "    data['release_pos_z'] = data['pitchData.coordinates.z0'] + (-data['t0']) * data['pitchData.coordinates.vZ0'] + ((-data['t0'])**2) * data['pitchData.coordinates.aZ'] / 2\n",
    "    \n",
    "    return data"
   ]
  },
  {
   "cell_type": "code",
   "execution_count": 5,
   "id": "c5528718",
   "metadata": {},
   "outputs": [],
   "source": [
    "fsl_sample = fsl_data.sample(30)"
   ]
  },
  {
   "cell_type": "code",
   "execution_count": 6,
   "id": "5f717f94",
   "metadata": {},
   "outputs": [],
   "source": [
    "release_points = get_release_points(fsl_sample)"
   ]
  }
 ],
 "metadata": {
  "kernelspec": {
   "display_name": "Python 3 (ipykernel)",
   "language": "python",
   "name": "python3"
  },
  "language_info": {
   "codemirror_mode": {
    "name": "ipython",
    "version": 3
   },
   "file_extension": ".py",
   "mimetype": "text/x-python",
   "name": "python",
   "nbconvert_exporter": "python",
   "pygments_lexer": "ipython3",
   "version": "3.9.7"
  }
 },
 "nbformat": 4,
 "nbformat_minor": 5
}
