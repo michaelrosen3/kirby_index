{
 "cells": [
  {
   "cell_type": "code",
   "execution_count": 11,
   "id": "a84c245b",
   "metadata": {},
   "outputs": [],
   "source": [
    "import pandas as pd\n",
    "import numpy as np\n",
    "import pybaseball as pyb\n",
    "import matplotlib.pyplot as plt\n",
    "import seaborn as sns\n",
    "from math import sqrt, atan2, degrees, pi\n",
    "from scipy.stats import percentileofscore\n",
    "\n",
    "from sklearn.model_selection import train_test_split\n",
    "from sklearn.linear_model import LinearRegression\n",
    "from sklearn.metrics import mean_squared_error, r2_score"
   ]
  },
  {
   "cell_type": "code",
   "execution_count": 2,
   "id": "b878c7d7",
   "metadata": {},
   "outputs": [
    {
     "name": "stdout",
     "output_type": "stream",
     "text": [
      "This is a large query, it may take a moment to complete\n"
     ]
    },
    {
     "name": "stderr",
     "output_type": "stream",
     "text": [
      "/Users/michaelrosen/opt/anaconda3/lib/python3.9/site-packages/pybaseball/statcast.py:50: UserWarning: \n",
      "That's a nice request you got there. It'd be a shame if something were to happen to it.\n",
      "We strongly recommend that you enable caching before running this. It's as simple as `pybaseball.cache.enable()`.\n",
      "Since the Statcast requests can take a *really* long time to run, if something were to happen, like: a disconnect;\n",
      "gremlins; computer repair by associates of Rudy Giuliani; electromagnetic interference from metal trash cans; etc.;\n",
      "you could lose a lot of progress. Enabling caching will allow you to immediately recover all the successful\n",
      "subqueries if that happens.\n",
      "  warnings.warn(_OVERSIZE_WARNING)\n",
      "100%|█████████████████████████████████████████| 186/186 [00:38<00:00,  4.82it/s]\n"
     ]
    }
   ],
   "source": [
    "data_2023 = pyb.statcast(start_dt='2023-03-30', end_dt='2023-10-01')"
   ]
  },
  {
   "cell_type": "code",
   "execution_count": 3,
   "id": "cabfaafd",
   "metadata": {},
   "outputs": [],
   "source": [
    "fastballs = data_2023[data_2023['pitch_type'].isin(['FF'])]"
   ]
  },
  {
   "cell_type": "code",
   "execution_count": 4,
   "id": "c46a40f4",
   "metadata": {},
   "outputs": [
    {
     "name": "stderr",
     "output_type": "stream",
     "text": [
      "/Users/michaelrosen/opt/anaconda3/lib/python3.9/site-packages/pandas/util/_decorators.py:311: SettingWithCopyWarning: \n",
      "A value is trying to be set on a copy of a slice from a DataFrame\n",
      "\n",
      "See the caveats in the documentation: https://pandas.pydata.org/pandas-docs/stable/user_guide/indexing.html#returning-a-view-versus-a-copy\n",
      "  return func(*args, **kwargs)\n"
     ]
    }
   ],
   "source": [
    "fastballs.dropna(subset=['vy0'], inplace=True)"
   ]
  },
  {
   "cell_type": "code",
   "execution_count": 5,
   "id": "75ae360e",
   "metadata": {},
   "outputs": [
    {
     "name": "stderr",
     "output_type": "stream",
     "text": [
      "/var/folders/bf/7kjr62fs6wq3x9hlt0xsr0w40000gn/T/ipykernel_33245/716655449.py:15: SettingWithCopyWarning: \n",
      "A value is trying to be set on a copy of a slice from a DataFrame.\n",
      "Try using .loc[row_indexer,col_indexer] = value instead\n",
      "\n",
      "See the caveats in the documentation: https://pandas.pydata.org/pandas-docs/stable/user_guide/indexing.html#returning-a-view-versus-a-copy\n",
      "  fastballs['VAA'] = fastballs.apply(calculate_vaa, axis=1)\n"
     ]
    }
   ],
   "source": [
    "def calculate_vaa(row):\n",
    "    yf = 17/12  # Home plate distance in feet, converted to inches\n",
    "    ay = row['ay']  # Acceleration in y-dimension for the current pitch\n",
    "    vy0 = row['vy0']  # Velocity in y-dimension at y=50 feet for the current pitch\n",
    "    vz0 = row['vz0']  # Velocity in z-dimension at y=50 feet for the current pitch\n",
    "    az = row['az']  # Acceleration in z-dimension for the current pitch\n",
    "\n",
    "    vy_f = -sqrt(vy0**2 - (2 * ay * (50 - yf)))\n",
    "    t = (vy_f - vy0) / ay\n",
    "    vz_f = vz0 + (az * t)\n",
    "    vaa_rad = atan2(vz_f, vy_f)\n",
    "    vaa_deg = (180+degrees(vaa_rad))*-1\n",
    "\n",
    "    return vaa_deg\n",
    "fastballs['VAA'] = fastballs.apply(calculate_vaa, axis=1)"
   ]
  },
  {
   "cell_type": "code",
   "execution_count": 6,
   "id": "2ef75086",
   "metadata": {},
   "outputs": [],
   "source": [
    "filtered_ff = fastballs.loc[:, ['release_pos_z', 'player_name', 'pfx_z', 'release_spin_rate','plate_x','spin_axis','VAA','release_extension','zone','plate_z','release_speed','release_pos_x','release_pos_y','vx0','vy0','vz0']]"
   ]
  },
  {
   "cell_type": "code",
   "execution_count": 7,
   "id": "78ebbd65",
   "metadata": {},
   "outputs": [],
   "source": [
    "filtered_ff['VRA'] = np.arctan(filtered_ff['vz0'] / np.sqrt(filtered_ff['vx0']**2 + filtered_ff['vy0']**2))\n",
    "filtered_ff['HRA'] = np.arctan(filtered_ff['vx0'] / filtered_ff['vy0'])\n",
    "filtered_ff['VRA_degrees'] = np.degrees(filtered_ff['VRA'])\n",
    "filtered_ff['HRA_degrees'] = (np.degrees(filtered_ff['HRA']))*-1"
   ]
  },
  {
   "cell_type": "code",
   "execution_count": 8,
   "id": "bd068c0b",
   "metadata": {},
   "outputs": [],
   "source": [
    "\n",
    "pitch_count = filtered_ff['player_name'].value_counts()\n",
    "\n",
    "filtered_ff_filtered = filtered_ff[filtered_ff['player_name'].isin(pitch_count.index[pitch_count >= 500])]\n"
   ]
  },
  {
   "cell_type": "code",
   "execution_count": 9,
   "id": "11d4df56",
   "metadata": {},
   "outputs": [],
   "source": [
    "import pandas as pd\n",
    "import numpy as np\n",
    "\n",
    "\n",
    "pitcher_std = filtered_ff_filtered.groupby('player_name')[['VRA_degrees', 'HRA_degrees','release_pos_z','release_pos_x']].std()\n",
    "\n",
    "\n",
    "pitcher_std['tightness_metric'] = pitcher_std.mean(axis=1)\n",
    "\n",
    "ranked_pitchers = pitcher_std.sort_values('tightness_metric')"
   ]
  },
  {
   "cell_type": "code",
   "execution_count": 10,
   "id": "418fce5e",
   "metadata": {},
   "outputs": [
    {
     "data": {
      "text/html": [
       "<div>\n",
       "<style scoped>\n",
       "    .dataframe tbody tr th:only-of-type {\n",
       "        vertical-align: middle;\n",
       "    }\n",
       "\n",
       "    .dataframe tbody tr th {\n",
       "        vertical-align: top;\n",
       "    }\n",
       "\n",
       "    .dataframe thead th {\n",
       "        text-align: right;\n",
       "    }\n",
       "</style>\n",
       "<table border=\"1\" class=\"dataframe\">\n",
       "  <thead>\n",
       "    <tr style=\"text-align: right;\">\n",
       "      <th></th>\n",
       "      <th>VRA_degrees</th>\n",
       "      <th>HRA_degrees</th>\n",
       "      <th>release_pos_z</th>\n",
       "      <th>release_pos_x</th>\n",
       "      <th>tightness_metric</th>\n",
       "    </tr>\n",
       "    <tr>\n",
       "      <th>player_name</th>\n",
       "      <th></th>\n",
       "      <th></th>\n",
       "      <th></th>\n",
       "      <th></th>\n",
       "      <th></th>\n",
       "    </tr>\n",
       "  </thead>\n",
       "  <tbody>\n",
       "    <tr>\n",
       "      <th>Sewald, Paul</th>\n",
       "      <td>0.615667</td>\n",
       "      <td>0.817073</td>\n",
       "      <td>0.090110</td>\n",
       "      <td>0.083528</td>\n",
       "      <td>0.401595</td>\n",
       "    </tr>\n",
       "    <tr>\n",
       "      <th>Kirby, George</th>\n",
       "      <td>0.713257</td>\n",
       "      <td>0.691793</td>\n",
       "      <td>0.103670</td>\n",
       "      <td>0.137947</td>\n",
       "      <td>0.411667</td>\n",
       "    </tr>\n",
       "    <tr>\n",
       "      <th>Ober, Bailey</th>\n",
       "      <td>0.774295</td>\n",
       "      <td>0.630723</td>\n",
       "      <td>0.100591</td>\n",
       "      <td>0.142407</td>\n",
       "      <td>0.412004</td>\n",
       "    </tr>\n",
       "    <tr>\n",
       "      <th>Ryan, Joe</th>\n",
       "      <td>0.749711</td>\n",
       "      <td>0.675591</td>\n",
       "      <td>0.153881</td>\n",
       "      <td>0.109306</td>\n",
       "      <td>0.422122</td>\n",
       "    </tr>\n",
       "    <tr>\n",
       "      <th>Bradford, Cody</th>\n",
       "      <td>0.810903</td>\n",
       "      <td>0.649964</td>\n",
       "      <td>0.095183</td>\n",
       "      <td>0.142762</td>\n",
       "      <td>0.424703</td>\n",
       "    </tr>\n",
       "  </tbody>\n",
       "</table>\n",
       "</div>"
      ],
      "text/plain": [
       "                VRA_degrees  HRA_degrees  release_pos_z  release_pos_x  \\\n",
       "player_name                                                              \n",
       "Sewald, Paul       0.615667     0.817073       0.090110       0.083528   \n",
       "Kirby, George      0.713257     0.691793       0.103670       0.137947   \n",
       "Ober, Bailey       0.774295     0.630723       0.100591       0.142407   \n",
       "Ryan, Joe          0.749711     0.675591       0.153881       0.109306   \n",
       "Bradford, Cody     0.810903     0.649964       0.095183       0.142762   \n",
       "\n",
       "                tightness_metric  \n",
       "player_name                       \n",
       "Sewald, Paul            0.401595  \n",
       "Kirby, George           0.411667  \n",
       "Ober, Bailey            0.412004  \n",
       "Ryan, Joe               0.422122  \n",
       "Bradford, Cody          0.424703  "
      ]
     },
     "execution_count": 10,
     "metadata": {},
     "output_type": "execute_result"
    }
   ],
   "source": [
    "ranked_pitchers.head()"
   ]
  },
  {
   "cell_type": "code",
   "execution_count": 14,
   "id": "6e5c293f",
   "metadata": {},
   "outputs": [
    {
     "name": "stdout",
     "output_type": "stream",
     "text": [
      "Mean Squared Error: 0.06128000089206968\n",
      "R-squared: 0.8982042650735885\n"
     ]
    },
    {
     "name": "stderr",
     "output_type": "stream",
     "text": [
      "/Users/michaelrosen/opt/anaconda3/lib/python3.9/site-packages/sklearn/utils/validation.py:63: FutureWarning: Arrays of bytes/strings is being converted to decimal numbers if dtype='numeric'. This behavior is deprecated in 0.24 and will be removed in 1.1 (renaming of 0.26). Please convert your data to numeric values explicitly instead.\n",
      "  return f(*args, **kwargs)\n",
      "/Users/michaelrosen/opt/anaconda3/lib/python3.9/site-packages/sklearn/utils/validation.py:63: FutureWarning: Arrays of bytes/strings is being converted to decimal numbers if dtype='numeric'. This behavior is deprecated in 0.24 and will be removed in 1.1 (renaming of 0.26). Please convert your data to numeric values explicitly instead.\n",
      "  return f(*args, **kwargs)\n",
      "/Users/michaelrosen/opt/anaconda3/lib/python3.9/site-packages/sklearn/utils/validation.py:63: FutureWarning: Arrays of bytes/strings is being converted to decimal numbers if dtype='numeric'. This behavior is deprecated in 0.24 and will be removed in 1.1 (renaming of 0.26). Please convert your data to numeric values explicitly instead.\n",
      "  return f(*args, **kwargs)\n",
      "/Users/michaelrosen/opt/anaconda3/lib/python3.9/site-packages/sklearn/utils/validation.py:63: FutureWarning: Arrays of bytes/strings is being converted to decimal numbers if dtype='numeric'. This behavior is deprecated in 0.24 and will be removed in 1.1 (renaming of 0.26). Please convert your data to numeric values explicitly instead.\n",
      "  return f(*args, **kwargs)\n"
     ]
    }
   ],
   "source": [
    "X = filtered_ff[['HRA_degrees', 'VRA_degrees','release_pos_x','release_pos_z']]\n",
    "y = filtered_ff[['plate_x', 'plate_z']]\n",
    "\n",
    "X_train, X_test, y_train, y_test = train_test_split(X, y, test_size=0.2, random_state=69)\n",
    "\n",
    "model = LinearRegression()\n",
    "model.fit(X_train, y_train)\n",
    "\n",
    "y_pred = model.predict(X_test)\n",
    "\n",
    "mse = mean_squared_error(y_test, y_pred)\n",
    "r2 = r2_score(y_test, y_pred)\n",
    "\n",
    "print(f\"Mean Squared Error: {mse}\")\n",
    "print(f\"R-squared: {r2}\")\n"
   ]
  },
  {
   "cell_type": "code",
   "execution_count": 15,
   "id": "21f5a63d",
   "metadata": {},
   "outputs": [
    {
     "name": "stdout",
     "output_type": "stream",
     "text": [
      "Mean Absolute Error: 0.18427725070300816\n",
      "Feature 1: 0.27071017380266765\n",
      "Feature 2: 0.4187379131370986\n",
      "Feature 3: 0.17089519243517567\n",
      "Feature 4: 0.13965672062505824\n"
     ]
    },
    {
     "name": "stderr",
     "output_type": "stream",
     "text": [
      "/Users/michaelrosen/opt/anaconda3/lib/python3.9/site-packages/sklearn/utils/validation.py:63: FutureWarning: Arrays of bytes/strings is being converted to decimal numbers if dtype='numeric'. This behavior is deprecated in 0.24 and will be removed in 1.1 (renaming of 0.26). Please convert your data to numeric values explicitly instead.\n",
      "  return f(*args, **kwargs)\n"
     ]
    }
   ],
   "source": [
    "from sklearn.ensemble import RandomForestRegressor\n",
    "from sklearn.metrics import mean_absolute_error\n",
    "\n",
    "rf_regressor = RandomForestRegressor()\n",
    "\n",
    "rf_regressor.fit(X_train, y_train)\n",
    "\n",
    "feature_importances = rf_regressor.feature_importances_\n",
    "\n",
    "y_pred = rf_regressor.predict(X_test)\n",
    "\n",
    "mae = mean_absolute_error(y_test, y_pred)\n",
    "\n",
    "print(\"Mean Absolute Error:\", mae)\n",
    "\n",
    "for i, importance in enumerate(feature_importances):\n",
    "    print(f\"Feature {i+1}: {importance}\")\n"
   ]
  },
  {
   "cell_type": "code",
   "execution_count": null,
   "id": "acdc7214",
   "metadata": {},
   "outputs": [],
   "source": []
  }
 ],
 "metadata": {
  "kernelspec": {
   "display_name": "Python 3 (ipykernel)",
   "language": "python",
   "name": "python3"
  },
  "language_info": {
   "codemirror_mode": {
    "name": "ipython",
    "version": 3
   },
   "file_extension": ".py",
   "mimetype": "text/x-python",
   "name": "python",
   "nbconvert_exporter": "python",
   "pygments_lexer": "ipython3",
   "version": "3.9.7"
  }
 },
 "nbformat": 4,
 "nbformat_minor": 5
}
