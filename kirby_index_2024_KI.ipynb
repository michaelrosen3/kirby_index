{
 "cells": [
  {
   "cell_type": "code",
   "execution_count": 1,
   "id": "3ca73563",
   "metadata": {},
   "outputs": [],
   "source": [
    "import pandas as pd\n",
    "import numpy as np\n",
    "import pybaseball as pyb\n",
    "import matplotlib.pyplot as plt\n",
    "import seaborn as sns\n",
    "from math import sqrt, atan2, degrees, pi, atan\n",
    "from scipy.stats import percentileofscore"
   ]
  },
  {
   "cell_type": "code",
   "execution_count": 2,
   "id": "7b1fd987",
   "metadata": {},
   "outputs": [
    {
     "name": "stdout",
     "output_type": "stream",
     "text": [
      "This is a large query, it may take a moment to complete\n"
     ]
    },
    {
     "name": "stderr",
     "output_type": "stream",
     "text": [
      "100%|███████████████████████████████████████████| 34/34 [00:07<00:00,  4.56it/s]\n"
     ]
    }
   ],
   "source": [
    "statcast_data = pyb.statcast(start_dt='2024-03-28', end_dt='2024-04-30')"
   ]
  },
  {
   "cell_type": "code",
   "execution_count": 3,
   "id": "628c1bea",
   "metadata": {},
   "outputs": [],
   "source": [
    "fastballs = statcast_data[statcast_data['pitch_type'].isin(['FF'])]"
   ]
  },
  {
   "cell_type": "code",
   "execution_count": 4,
   "id": "8e228206",
   "metadata": {},
   "outputs": [
    {
     "name": "stderr",
     "output_type": "stream",
     "text": [
      "/Users/michaelrosen/opt/anaconda3/lib/python3.9/site-packages/pandas/util/_decorators.py:311: SettingWithCopyWarning: \n",
      "A value is trying to be set on a copy of a slice from a DataFrame\n",
      "\n",
      "See the caveats in the documentation: https://pandas.pydata.org/pandas-docs/stable/user_guide/indexing.html#returning-a-view-versus-a-copy\n",
      "  return func(*args, **kwargs)\n"
     ]
    }
   ],
   "source": [
    "fastballs.dropna(subset=['vy0'], inplace=True)"
   ]
  },
  {
   "cell_type": "code",
   "execution_count": 5,
   "id": "797ac226",
   "metadata": {},
   "outputs": [],
   "source": [
    "fastballs.dropna(subset=['release_extension'], inplace=True)"
   ]
  },
  {
   "cell_type": "code",
   "execution_count": 6,
   "id": "54722963",
   "metadata": {},
   "outputs": [
    {
     "name": "stderr",
     "output_type": "stream",
     "text": [
      "/var/folders/bf/7kjr62fs6wq3x9hlt0xsr0w40000gn/T/ipykernel_32978/716655449.py:15: SettingWithCopyWarning: \n",
      "A value is trying to be set on a copy of a slice from a DataFrame.\n",
      "Try using .loc[row_indexer,col_indexer] = value instead\n",
      "\n",
      "See the caveats in the documentation: https://pandas.pydata.org/pandas-docs/stable/user_guide/indexing.html#returning-a-view-versus-a-copy\n",
      "  fastballs['VAA'] = fastballs.apply(calculate_vaa, axis=1)\n"
     ]
    }
   ],
   "source": [
    "def calculate_vaa(row):\n",
    "    yf = 17/12  # Home plate distance in feet, converted to inches\n",
    "    ay = row['ay']  # Acceleration in y-dimension for the current pitch\n",
    "    vy0 = row['vy0']  # Velocity in y-dimension at y=50 feet for the current pitch\n",
    "    vz0 = row['vz0']  # Velocity in z-dimension at y=50 feet for the current pitch\n",
    "    az = row['az']  # Acceleration in z-dimension for the current pitch\n",
    "\n",
    "    vy_f = -sqrt(vy0**2 - (2 * ay * (50 - yf)))\n",
    "    t = (vy_f - vy0) / ay\n",
    "    vz_f = vz0 + (az * t)\n",
    "    vaa_rad = atan2(vz_f, vy_f)\n",
    "    vaa_deg = (180+degrees(vaa_rad))*-1\n",
    "\n",
    "    return vaa_deg\n",
    "fastballs['VAA'] = fastballs.apply(calculate_vaa, axis=1)"
   ]
  },
  {
   "cell_type": "code",
   "execution_count": 7,
   "id": "7f36e2d2",
   "metadata": {},
   "outputs": [],
   "source": [
    "filtered_ff = fastballs.loc[:, ['pitcher','stand','release_pos_z', 'p_throws', 'player_name', 'pfx_z', 'release_spin_rate','spin_axis','VAA','release_extension','zone','plate_z','plate_x','release_speed','release_pos_x','vx0','vy0','vz0','ax','ay','az']]"
   ]
  },
  {
   "cell_type": "code",
   "execution_count": 8,
   "id": "6e6b95c6",
   "metadata": {},
   "outputs": [],
   "source": [
    "def calculate_VRA(vy0, ay, release_extension, vz0, az):\n",
    "    vy_s = -np.sqrt(vy0**2 - 2 * ay * (60.5 - release_extension - 50))\n",
    "    t_s = (vy_s - vy0) / ay\n",
    "    vz_s = vz0 - az * t_s\n",
    "    VRA = -np.arctan(vz_s / vy_s) * (180 / np.pi)\n",
    "    return VRA\n",
    "\n",
    "def calculate_HRA(vy0, ay, release_extension, vx0, ax):\n",
    "    vy_s = -np.sqrt(vy0**2 - 2 * ay * (60.5 - release_extension - 50))\n",
    "    t_s = (vy_s - vy0) / ay\n",
    "    vx_s = vx0 - ax * t_s\n",
    "    HRA = -np.arctan(vx_s / vy_s) * (180 / np.pi)\n",
    "    return HRA\n",
    "\n",
    "filtered_ff['VRA'] = filtered_ff.apply(lambda x: calculate_VRA(x['vy0'], x['ay'], x['release_extension'], x['vz0'], x['az']), axis=1)\n",
    "filtered_ff['HRA'] = filtered_ff.apply(lambda x: calculate_HRA(x['vy0'], x['ay'], x['release_extension'], x['vx0'], x['ax']), axis=1)"
   ]
  },
  {
   "cell_type": "code",
   "execution_count": 9,
   "id": "f7023580",
   "metadata": {},
   "outputs": [],
   "source": [
    "filtered_ff['VRA'] = pd.to_numeric(filtered_ff['VRA'], errors='coerce')\n",
    "filtered_ff['HRA'] = pd.to_numeric(filtered_ff['HRA'], errors='coerce')"
   ]
  },
  {
   "cell_type": "code",
   "execution_count": 10,
   "id": "72fab2e7",
   "metadata": {},
   "outputs": [],
   "source": [
    "grouped_pitchers = filtered_ff.groupby('pitcher').agg({\n",
    "    'VRA': 'mean',\n",
    "    'HRA': 'mean',\n",
    "    'release_pos_z': 'mean',\n",
    "    'release_pos_x': 'mean'\n",
    "}).reset_index()\n"
   ]
  },
  {
   "cell_type": "code",
   "execution_count": 11,
   "id": "a491cb13",
   "metadata": {},
   "outputs": [],
   "source": [
    "pitch_count = filtered_ff['pitcher'].value_counts()\n",
    "\n",
    "filtered_ff_filtered = filtered_ff[filtered_ff['pitcher'].isin(pitch_count.index[pitch_count >= 75])]"
   ]
  },
  {
   "cell_type": "code",
   "execution_count": 12,
   "id": "908c51ee",
   "metadata": {},
   "outputs": [],
   "source": [
    "pitcher_std = filtered_ff_filtered.groupby('pitcher')[['VRA', 'HRA', 'release_pos_z', 'release_pos_x']].std()\n",
    "\n",
    "pitcher_std['player_name'] = filtered_ff_filtered.groupby('pitcher')['player_name'].first()\n",
    "\n",
    "pitcher_std = pitcher_std.reset_index()"
   ]
  },
  {
   "cell_type": "code",
   "execution_count": 13,
   "id": "97a3cbb6",
   "metadata": {},
   "outputs": [],
   "source": [
    "weights = {'VRA_degrees': 0.42, 'HRA_degrees': 0.27, 'release_pos_z': 0.17, 'release_pos_x': 0.14}\n",
    "\n",
    "pitcher_std['VRA_percentile'] = 1 - pitcher_std['VRA'].rank(pct=True)\n",
    "pitcher_std['HRA_percentile'] = 1 - pitcher_std['HRA'].rank(pct=True)\n",
    "pitcher_std['release_pos_z_percentile'] = 1 - pitcher_std['release_pos_z'].rank(pct=True)\n",
    "pitcher_std['release_pos_x_percentile'] = 1 - pitcher_std['release_pos_x'].rank(pct=True)\n",
    "\n",
    "pitcher_std['weighted_tightness_metric'] = (\n",
    "    pitcher_std['VRA_percentile'] * weights['VRA_degrees'] +\n",
    "    pitcher_std['HRA_percentile'] * weights['HRA_degrees'] +\n",
    "    pitcher_std['release_pos_z_percentile'] * weights['release_pos_z'] +\n",
    "    pitcher_std['release_pos_x_percentile'] * weights['release_pos_x']\n",
    ")\n",
    "\n",
    "ranked_pitchers_weighted = pitcher_std.sort_values('weighted_tightness_metric', ascending=False)\n"
   ]
  },
  {
   "cell_type": "code",
   "execution_count": 14,
   "id": "40b908e6",
   "metadata": {},
   "outputs": [],
   "source": [
    "ranked_pitchers_weighted.to_excel('kirby_index_5_01.xlsx')"
   ]
  },
  {
   "cell_type": "code",
   "execution_count": null,
   "id": "a0fbf6b1",
   "metadata": {},
   "outputs": [],
   "source": []
  }
 ],
 "metadata": {
  "kernelspec": {
   "display_name": "Python 3 (ipykernel)",
   "language": "python",
   "name": "python3"
  },
  "language_info": {
   "codemirror_mode": {
    "name": "ipython",
    "version": 3
   },
   "file_extension": ".py",
   "mimetype": "text/x-python",
   "name": "python",
   "nbconvert_exporter": "python",
   "pygments_lexer": "ipython3",
   "version": "3.9.7"
  }
 },
 "nbformat": 4,
 "nbformat_minor": 5
}
