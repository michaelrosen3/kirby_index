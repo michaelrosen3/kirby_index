{
 "cells": [
  {
   "cell_type": "code",
   "execution_count": 1,
   "id": "2f71c80a",
   "metadata": {},
   "outputs": [],
   "source": [
    "import pandas as pd\n",
    "import numpy as np\n",
    "import pybaseball as pyb\n",
    "import matplotlib.pyplot as plt\n",
    "import seaborn as sns\n",
    "from math import sqrt, atan2, degrees, pi, atan\n",
    "from scipy.stats import percentileofscore"
   ]
  },
  {
   "cell_type": "code",
   "execution_count": 2,
   "id": "ae4a5c7a",
   "metadata": {},
   "outputs": [],
   "source": [
    "fsl_data = pd.read_excel('/Users/michaelrosen/Desktop/kirby_index/fsl_data_filtered.xlsx')"
   ]
  },
  {
   "cell_type": "code",
   "execution_count": 14,
   "id": "a602d758",
   "metadata": {},
   "outputs": [],
   "source": [
    "test_df = fsl_data.sample(30)"
   ]
  },
  {
   "cell_type": "code",
   "execution_count": 15,
   "id": "f964c443",
   "metadata": {},
   "outputs": [],
   "source": [
    "def calculate_9ps(data):\n",
    "    # Create a copy of the data to avoid modifying the original DataFrame\n",
    "    data = data.copy()\n",
    "    \n",
    "    # Perform the calculations\n",
    "    data['cy'] = 60.5 - data['pitchData.extension']\n",
    "    data['y0'] = 50\n",
    "    data['t0'] = -(-data['pitchData.coordinates.vY0'] - np.sqrt(data['pitchData.coordinates.vY0']**2 - 4 * (data['pitchData.coordinates.aY'] / 2) * (data['y0'] - data['cy']))) / (2 * (data['pitchData.coordinates.aY'] / 2))\n",
    "    data['bx'] = data['pitchData.coordinates.vX0'] + (-data['t0']) * data['pitchData.coordinates.aX']\n",
    "    data['by'] = data['pitchData.coordinates.vY0'] + (-data['t0']) * data['pitchData.coordinates.aY']\n",
    "    data['bz'] = data['pitchData.coordinates.vZ0'] + (-data['t0']) * data['pitchData.coordinates.aZ']\n",
    "    data['cx'] = data['pitchData.coordinates.x0'] + (-data['t0']) * data['pitchData.coordinates.vX0'] + ((-data['t0'])**2) * data['pitchData.coordinates.aX'] / 2\n",
    "    data['cz'] = data['pitchData.coordinates.z0'] + (-data['t0']) * data['pitchData.coordinates.vZ0'] + ((-data['t0'])**2) * data['pitchData.coordinates.aZ'] / 2\n",
    "    data['ay'] = data['pitchData.coordinates.aZ']\n",
    "    data['ax'] = data['pitchData.coordinates.aX']\n",
    "    data['az'] = data['pitchData.coordinates.aZ']\n",
    "    \n",
    "    return data"
   ]
  },
  {
   "cell_type": "code",
   "execution_count": 16,
   "id": "5f717f94",
   "metadata": {},
   "outputs": [],
   "source": [
    "nine_param = calculate_9ps(test_df)"
   ]
  },
  {
   "cell_type": "code",
   "execution_count": 19,
   "id": "4fa3a702",
   "metadata": {},
   "outputs": [],
   "source": [
    "def get_trackman_metrics(data):\n",
    "    # Create a copy of the data to avoid modifying the original DataFrame\n",
    "    data = data.copy()\n",
    "    \n",
    "    # Perform the calculations\n",
    "    data['release_x'] = data['cx']\n",
    "    data['release_y'] = data['cy']\n",
    "    data['release_z'] = data['cz']\n",
    "    \n",
    "    # Calculate plate location\n",
    "    plate_y = 17 / 12  # back of home plate is zero; front is 17 inches\n",
    "    \n",
    "    # Solve quadratic equation to get the time at which ball reaches front of plate\n",
    "    data['plate_time'] = (-data['by'] - np.sqrt(data['by']**2 - 4 * (data['ay'] / 2) * (data['cy'] - plate_y))) / (2 * (data['ay'] / 2))\n",
    "    data['plate_x_derived'] = data['ax'] * data['plate_time']**2 / 2 + data['bx'] * data['plate_time'] + data['cx']\n",
    "    data['plate_z_derived'] = data['az'] * data['plate_time']**2 / 2 + data['bz'] * data['plate_time'] + data['cz']\n",
    "    \n",
    "    # Set up some intermediate variables for calculating breaks\n",
    "    gravity = -32.17  # feet per second per second\n",
    "    data['plate_x_line'] = data['bx'] * data['plate_time'] + data['cx']\n",
    "    data['plate_z_line'] = data['bz'] * data['plate_time'] + data['cz']\n",
    "    data['plate_z_gravity'] = gravity * data['plate_time']**2 / 2 + data['bz'] * data['plate_time'] + data['cz']\n",
    "    \n",
    "    # Calculate breaks\n",
    "    data['horz_break'] = 12 * (data['pitchData.coordinates.pX'] - data['plate_x_line'])  # measured in inches\n",
    "    data['vert_break'] = 12 * (data['pitchData.coordinates.pZ'] - data['plate_z_line'])  # measured in inches\n",
    "    data['induced_vert_break'] = 12 * (data['pitchData.coordinates.pZ'] - data['plate_z_gravity'])  # measured in inches\n",
    "    \n",
    "    return data"
   ]
  },
  {
   "cell_type": "code",
   "execution_count": 20,
   "id": "582748ff",
   "metadata": {},
   "outputs": [],
   "source": [
    "final_nine_param_test = get_trackman_metrics(nine_param)"
   ]
  },
  {
   "cell_type": "code",
   "execution_count": 21,
   "id": "56c4cd0c",
   "metadata": {},
   "outputs": [],
   "source": [
    "final_nine_param_test.to_excel('nine_param_test.xlsx')"
   ]
  },
  {
   "cell_type": "code",
   "execution_count": 21,
   "id": "2168bf71",
   "metadata": {},
   "outputs": [],
   "source": [
    "def calculate_VRA(vy0, ay, release_extension, vz0, az):\n",
    "    vy_s = -np.sqrt(vy0**2 - 2 * ay * (60.5 - release_extension - 50))\n",
    "    t_s = (vy_s - vy0) / ay\n",
    "    vz_s = vz0 - az * t_s\n",
    "    VRA = -np.arctan(vz_s / vy_s) * (180 / np.pi)\n",
    "    return VRA\n",
    "\n",
    "def calculate_HRA(vy0, ay, release_extension, vx0, ax):\n",
    "    vy_s = -np.sqrt(vy0**2 - 2 * ay * (60.5 - release_extension - 50))\n",
    "    t_s = (vy_s - vy0) / ay\n",
    "    vx_s = vx0 - ax * t_s\n",
    "    HRA = -np.arctan(vx_s / vy_s) * (180 / np.pi)\n",
    "    return HRA\n",
    "\n",
    "\n",
    "fsl_data['VRA'] = fsl_data.apply(lambda x: calculate_VRA(x['pitchData.coordinates.vY0'], x['pitchData.coordinates.aY'], x['pitchData.extension'], x['pitchData.coordinates.vZ0'], x['pitchData.coordinates.aZ']), axis=1)\n",
    "fsl_data['HRA'] = fsl_data.apply(lambda x: calculate_HRA(x['pitchData.coordinates.vY0'], x['pitchData.coordinates.aY'], x['pitchData.extension'], x['pitchData.coordinates.vX0'], x['pitchData.coordinates.aX']), axis=1)"
   ]
  },
  {
   "cell_type": "code",
   "execution_count": 22,
   "id": "95e090f1",
   "metadata": {},
   "outputs": [],
   "source": [
    "fastballs = fsl_data[fsl_data['details.type.code'].isin(['FF'])]"
   ]
  },
  {
   "cell_type": "code",
   "execution_count": 23,
   "id": "be46193f",
   "metadata": {},
   "outputs": [],
   "source": [
    "fastballs.dropna(subset=['pitchData.extension'], inplace=True)"
   ]
  },
  {
   "cell_type": "code",
   "execution_count": 24,
   "id": "afde0509",
   "metadata": {},
   "outputs": [
    {
     "name": "stderr",
     "output_type": "stream",
     "text": [
      "/var/folders/bf/7kjr62fs6wq3x9hlt0xsr0w40000gn/T/ipykernel_20086/2606160125.py:15: SettingWithCopyWarning: \n",
      "A value is trying to be set on a copy of a slice from a DataFrame.\n",
      "Try using .loc[row_indexer,col_indexer] = value instead\n",
      "\n",
      "See the caveats in the documentation: https://pandas.pydata.org/pandas-docs/stable/user_guide/indexing.html#returning-a-view-versus-a-copy\n",
      "  fastballs['VAA'] = fastballs.apply(calculate_vaa, axis=1)\n"
     ]
    }
   ],
   "source": [
    "def calculate_vaa(row):\n",
    "    yf = 17/12  # Home plate distance in feet, converted to inches\n",
    "    ay = row['pitchData.coordinates.aY']  # Acceleration in y-dimension for the current pitch\n",
    "    vy0 = row['pitchData.coordinates.vY0']  # Velocity in y-dimension at y=50 feet for the current pitch\n",
    "    vz0 = row['pitchData.coordinates.vZ0']  # Velocity in z-dimension at y=50 feet for the current pitch\n",
    "    az = row['pitchData.coordinates.aZ']  # Acceleration in z-dimension for the current pitch\n",
    "\n",
    "    vy_f = -sqrt(vy0**2 - (2 * ay * (50 - yf)))\n",
    "    t = (vy_f - vy0) / ay\n",
    "    vz_f = vz0 + (az * t)\n",
    "    vaa_rad = atan2(vz_f, vy_f)\n",
    "    vaa_deg = (180+degrees(vaa_rad))*-1\n",
    "\n",
    "    return vaa_deg\n",
    "fastballs['VAA'] = fastballs.apply(calculate_vaa, axis=1)"
   ]
  },
  {
   "cell_type": "code",
   "execution_count": 3,
   "id": "5e80cd7d",
   "metadata": {},
   "outputs": [],
   "source": [
    "command_grades = pd.read_csv('/Users/michaelrosen/Desktop/kirby_index/2021_pitching_data.csv')"
   ]
  },
  {
   "cell_type": "code",
   "execution_count": 6,
   "id": "a6edaf42",
   "metadata": {},
   "outputs": [
    {
     "name": "stdout",
     "output_type": "stream",
     "text": [
      "                  Name   Pos  Org  Top 100  Org Rk        Age  TJ Date  \\\n",
      "0         Nate Pearson    SP  TOR      9.0       1  24.780555      NaN   \n",
      "1          Luis Patiño    SP  TBR     11.0       3  21.597222      NaN   \n",
      "2         Ian Anderson    SP  ATL     12.0       2  23.080555      NaN   \n",
      "3         Matt Manning    SP  DET     19.0       2  23.341667      NaN   \n",
      "4         Tarik Skubal    SP  DET     22.0       4  24.530555  4/20/16   \n",
      "..                 ...   ...  ...      ...     ...        ...      ...   \n",
      "637  Aneudy Cortorreal  SIRP  TBR      NaN      59  21.466667      NaN   \n",
      "638       Scott Engler  SIRP  TEX      NaN      59  24.469444   9/7/16   \n",
      "639       Angel Felipe  SIRP  TBR      NaN      60  23.752778      NaN   \n",
      "640        Hever Bueno  SIRP  TEX      NaN      61  26.522222  6/10/16   \n",
      "641    Kelvin Gonzalez  SIRP  TEX      NaN      62  23.436111      NaN   \n",
      "\n",
      "    FB Type       FB       SL       CB       CH  RPM FB  RPM Break    Sits  \\\n",
      "0      Rise  70 / 70  65 / 70  45 / 45  40 / 55  2350.0     2600.0  95-100   \n",
      "1      Rise  65 / 65  55 / 60      NaN  45 / 55  2500.0     2500.0   93-97   \n",
      "2      Rise  55 / 60      NaN  50 / 55  70 / 70  2150.0     1700.0   91-95   \n",
      "3      Rise  60 / 60      NaN  60 / 60  50 / 55  2100.0     2300.0   93-96   \n",
      "4      Rise  70 / 70  60 / 60  45 / 45  45 / 50  2400.0     2250.0   93-96   \n",
      "..      ...      ...      ...      ...      ...     ...        ...     ...   \n",
      "637    Rise  65 / 70  40 / 50  40 / 45  40 / 45  2250.0     2100.0   93-97   \n",
      "638     NaN  45 / 45      NaN      NaN      NaN     NaN        NaN   93-94   \n",
      "639    Rise  55 / 60  45 / 50      NaN  45 / 55  2400.0     2450.0   93-96   \n",
      "640     NaN  60 / 60  50 / 55      NaN      NaN  2300.0     2600.0   92-97   \n",
      "641     NaN  60 / 60      NaN  55 / 55  50 / 50  2450.0        NaN   94-96   \n",
      "\n",
      "      Tops   FV   PlayerId  current_command  future_command  \n",
      "0    102.0   60      20160             45.0            50.0  \n",
      "1     99.0   60      22815             40.0            60.0  \n",
      "2     97.0   60      19951             55.0            60.0  \n",
      "3     98.0   60      20369             45.0            55.0  \n",
      "4     97.0   60      22267             35.0            45.0  \n",
      "..     ...  ...        ...              ...             ...  \n",
      "637   99.0  35+  sa3009242             30.0            40.0  \n",
      "638   95.0  35+   sa918353             40.0            40.0  \n",
      "639   98.0  35+      21163             20.0            35.0  \n",
      "640   99.0  35+   sa738180             30.0            35.0  \n",
      "641   98.0  35+   sa920544             40.0            40.0  \n",
      "\n",
      "[642 rows x 20 columns]\n"
     ]
    }
   ],
   "source": [
    "# Splitting the 'command_grades' column into two columns\n",
    "command_grades[['current_command', 'future_command']] = command_grades['CMD'].str.split('/', expand=True).astype(float)\n",
    "\n",
    "# Dropping the original 'command_grades' column\n",
    "command_grades.drop('CMD', axis=1, inplace=True)\n"
   ]
  },
  {
   "cell_type": "code",
   "execution_count": 11,
   "id": "25e6dd39",
   "metadata": {},
   "outputs": [
    {
     "name": "stdout",
     "output_type": "stream",
     "text": [
      "<class 'pandas.core.frame.DataFrame'>\n",
      "RangeIndex: 210405 entries, 0 to 210404\n",
      "Data columns (total 55 columns):\n",
      " #   Column                                 Non-Null Count   Dtype         \n",
      "---  ------                                 --------------   -----         \n",
      " 0   game_pk                                210405 non-null  int64         \n",
      " 1   game_date                              210405 non-null  datetime64[ns]\n",
      " 2   index                                  210405 non-null  int64         \n",
      " 3   startTime                              210405 non-null  object        \n",
      " 4   endTime                                210404 non-null  object        \n",
      " 5   isPitch                                210405 non-null  bool          \n",
      " 6   playId                                 196670 non-null  object        \n",
      " 7   pitchNumber                            194587 non-null  float64       \n",
      " 8   details.description                    210175 non-null  object        \n",
      " 9   details.ballColor                      194522 non-null  object        \n",
      " 10  count.balls.start                      210405 non-null  int64         \n",
      " 11  count.strikes.start                    210405 non-null  int64         \n",
      " 12  count.outs.start                       210405 non-null  int64         \n",
      " 13  player.id                              13131 non-null   float64       \n",
      " 14  pitchData.strikeZoneTop                194522 non-null  float64       \n",
      " 15  pitchData.strikeZoneBottom             194522 non-null  float64       \n",
      " 16  details.fromCatcher                    2457 non-null    float64       \n",
      " 17  pitchData.coordinates.x                194333 non-null  float64       \n",
      " 18  pitchData.coordinates.y                194332 non-null  float64       \n",
      " 19  matchup.batter.id                      210405 non-null  int64         \n",
      " 20  matchup.batter.fullName                210405 non-null  object        \n",
      " 21  matchup.batSide.code                   210405 non-null  object        \n",
      " 22  matchup.pitcher.id                     210405 non-null  int64         \n",
      " 23  matchup.pitcher.fullName               210405 non-null  object        \n",
      " 24  matchup.pitchHand.code                 210405 non-null  object        \n",
      " 25  home_team                              210405 non-null  object        \n",
      " 26  away_team                              210405 non-null  object        \n",
      " 27  details.trailColor                     174847 non-null  object        \n",
      " 28  details.type.code                      174847 non-null  object        \n",
      " 29  pitchData.startSpeed                   174847 non-null  float64       \n",
      " 30  pitchData.endSpeed                     174847 non-null  float64       \n",
      " 31  pitchData.zone                         174847 non-null  float64       \n",
      " 32  pitchData.plateTime                    174847 non-null  float64       \n",
      " 33  pitchData.extension                    173504 non-null  float64       \n",
      " 34  pitchData.coordinates.aY               174847 non-null  float64       \n",
      " 35  pitchData.coordinates.aZ               174847 non-null  float64       \n",
      " 36  pitchData.coordinates.pfxX             174847 non-null  float64       \n",
      " 37  pitchData.coordinates.pfxZ             174847 non-null  float64       \n",
      " 38  pitchData.coordinates.pX               174847 non-null  float64       \n",
      " 39  pitchData.coordinates.pZ               174847 non-null  float64       \n",
      " 40  pitchData.coordinates.vX0              174847 non-null  float64       \n",
      " 41  pitchData.coordinates.vY0              174847 non-null  float64       \n",
      " 42  pitchData.coordinates.vZ0              174847 non-null  float64       \n",
      " 43  pitchData.coordinates.x0               174847 non-null  float64       \n",
      " 44  pitchData.coordinates.y0               174847 non-null  float64       \n",
      " 45  pitchData.coordinates.z0               174847 non-null  float64       \n",
      " 46  pitchData.coordinates.aX               174847 non-null  float64       \n",
      " 47  pitchData.breaks.breakAngle            174847 non-null  float64       \n",
      " 48  pitchData.breaks.breakLength           174847 non-null  float64       \n",
      " 49  pitchData.breaks.breakY                174847 non-null  float64       \n",
      " 50  pitchData.breaks.spinRate              173570 non-null  float64       \n",
      " 51  pitchData.breaks.spinDirection         173570 non-null  float64       \n",
      " 52  pitchData.breaks.breakVertical         174847 non-null  float64       \n",
      " 53  pitchData.breaks.breakVerticalInduced  174847 non-null  float64       \n",
      " 54  pitchData.breaks.breakHorizontal       174847 non-null  float64       \n",
      "dtypes: bool(1), datetime64[ns](1), float64(33), int64(7), object(13)\n",
      "memory usage: 86.9+ MB\n"
     ]
    }
   ],
   "source": [
    "fsl_data.info()"
   ]
  },
  {
   "cell_type": "code",
   "execution_count": 13,
   "id": "e73138b0",
   "metadata": {},
   "outputs": [
    {
     "data": {
      "text/plain": [
       "206158    695865\n",
       "Name: matchup.pitcher.id, dtype: int64"
      ]
     },
     "execution_count": 13,
     "metadata": {},
     "output_type": "execute_result"
    }
   ],
   "source": [
    "fsl_data['matchup.pitcher.id'].sample()"
   ]
  },
  {
   "cell_type": "code",
   "execution_count": 36,
   "id": "588d359b",
   "metadata": {},
   "outputs": [],
   "source": [
    "pitch_count = fsl_data['matchup.pitcher.id'].value_counts()\n",
    "\n",
    "filtered_ff_filtered = fsl_data[fsl_data['matchup.pitcher.id'].isin(pitch_count.index[pitch_count >= 300])]"
   ]
  },
  {
   "cell_type": "code",
   "execution_count": 37,
   "id": "7f8dd471",
   "metadata": {},
   "outputs": [],
   "source": [
    "pitcher_std = filtered_ff_filtered.groupby('matchup.pitcher.id')[['VRA', 'HRA', 'pitchData.coordinates.z0', 'pitchData.coordinates.x0']].std()\n",
    "\n",
    "pitcher_std['player_name'] = filtered_ff_filtered.groupby('matchup.pitcher.id')['matchup.pitcher.fullName'].first()\n",
    "\n",
    "pitcher_std = pitcher_std.reset_index()"
   ]
  },
  {
   "cell_type": "code",
   "execution_count": 38,
   "id": "df12efef",
   "metadata": {},
   "outputs": [],
   "source": [
    "weights = {'VRA_degrees': 0.42, 'HRA_degrees': 0.27, 'release_pos_z': 0.17, 'release_pos_x': 0.14}\n",
    "\n",
    "pitcher_std['VRA_percentile'] = 1 - pitcher_std['VRA'].rank(pct=True)\n",
    "pitcher_std['HRA_percentile'] = 1 - pitcher_std['HRA'].rank(pct=True)\n",
    "pitcher_std['release_pos_z_percentile'] = 1 - pitcher_std['pitchData.coordinates.z0'].rank(pct=True)\n",
    "pitcher_std['release_pos_x_percentile'] = 1 - pitcher_std['pitchData.coordinates.x0'].rank(pct=True)\n",
    "\n",
    "pitcher_std['weighted_tightness_metric'] = (\n",
    "    pitcher_std['VRA_percentile'] * weights['VRA_degrees'] +\n",
    "    pitcher_std['HRA_percentile'] * weights['HRA_degrees'] +\n",
    "    pitcher_std['release_pos_z_percentile'] * weights['release_pos_z'] +\n",
    "    pitcher_std['release_pos_x_percentile'] * weights['release_pos_x']\n",
    ")\n",
    "\n",
    "ranked_pitchers_weighted = pitcher_std.sort_values('weighted_tightness_metric', ascending=False)"
   ]
  },
  {
   "cell_type": "code",
   "execution_count": 45,
   "id": "0952a9a9",
   "metadata": {},
   "outputs": [
    {
     "ename": "AttributeError",
     "evalue": "'str' object has no attribute 'astype'",
     "output_type": "error",
     "traceback": [
      "\u001b[0;31m---------------------------------------------------------------------------\u001b[0m",
      "\u001b[0;31mAttributeError\u001b[0m                            Traceback (most recent call last)",
      "\u001b[0;32m/var/folders/bf/7kjr62fs6wq3x9hlt0xsr0w40000gn/T/ipykernel_20086/1018677917.py\u001b[0m in \u001b[0;36m<module>\u001b[0;34m\u001b[0m\n\u001b[0;32m----> 1\u001b[0;31m \u001b[0mmerge_df\u001b[0m \u001b[0;34m=\u001b[0m \u001b[0mranked_pitchers_weighted\u001b[0m\u001b[0;34m.\u001b[0m\u001b[0mmerge\u001b[0m\u001b[0;34m(\u001b[0m\u001b[0mcommand_grades\u001b[0m\u001b[0;34m,\u001b[0m \u001b[0mleft_on\u001b[0m\u001b[0;34m=\u001b[0m\u001b[0;34m'matchup.pitcher.id'\u001b[0m\u001b[0;34m,\u001b[0m \u001b[0mright_on\u001b[0m\u001b[0;34m=\u001b[0m\u001b[0;34m'PlayerId'\u001b[0m\u001b[0;34m.\u001b[0m\u001b[0mastype\u001b[0m\u001b[0;34m(\u001b[0m\u001b[0mint\u001b[0m\u001b[0;34m)\u001b[0m\u001b[0;34m)\u001b[0m\u001b[0;34m\u001b[0m\u001b[0;34m\u001b[0m\u001b[0m\n\u001b[0m",
      "\u001b[0;31mAttributeError\u001b[0m: 'str' object has no attribute 'astype'"
     ]
    }
   ],
   "source": [
    "merge_df = ranked_pitchers_weighted.merge(command_grades, left_on='matchup.pitcher.id', right_on='PlayerId'.astype(int))"
   ]
  },
  {
   "cell_type": "code",
   "execution_count": 39,
   "id": "baf1ec2a",
   "metadata": {},
   "outputs": [],
   "source": [
    "ranked_pitchers_weighted.to_excel('kirby_index_fsl_2021.xlsx')"
   ]
  },
  {
   "cell_type": "code",
   "execution_count": 47,
   "id": "f50042d1",
   "metadata": {},
   "outputs": [
    {
     "ename": "ValueError",
     "evalue": "invalid literal for int() with base 10: 'sa3014423'",
     "output_type": "error",
     "traceback": [
      "\u001b[0;31m---------------------------------------------------------------------------\u001b[0m",
      "\u001b[0;31mValueError\u001b[0m                                Traceback (most recent call last)",
      "\u001b[0;32m/var/folders/bf/7kjr62fs6wq3x9hlt0xsr0w40000gn/T/ipykernel_20086/2784492619.py\u001b[0m in \u001b[0;36m<module>\u001b[0;34m\u001b[0m\n\u001b[1;32m      3\u001b[0m \u001b[0;34m\u001b[0m\u001b[0m\n\u001b[1;32m      4\u001b[0m \u001b[0;31m# Convert 'PlayerId' column to integer\u001b[0m\u001b[0;34m\u001b[0m\u001b[0;34m\u001b[0m\u001b[0m\n\u001b[0;32m----> 5\u001b[0;31m \u001b[0mcommand_grades\u001b[0m\u001b[0;34m[\u001b[0m\u001b[0;34m'PlayerId'\u001b[0m\u001b[0;34m]\u001b[0m \u001b[0;34m=\u001b[0m \u001b[0mcommand_grades\u001b[0m\u001b[0;34m[\u001b[0m\u001b[0;34m'PlayerId'\u001b[0m\u001b[0;34m]\u001b[0m\u001b[0;34m.\u001b[0m\u001b[0mastype\u001b[0m\u001b[0;34m(\u001b[0m\u001b[0mint\u001b[0m\u001b[0;34m)\u001b[0m\u001b[0;34m\u001b[0m\u001b[0;34m\u001b[0m\u001b[0m\n\u001b[0m\u001b[1;32m      6\u001b[0m \u001b[0;34m\u001b[0m\u001b[0m\n\u001b[1;32m      7\u001b[0m \u001b[0;31m# Merge the DataFrames\u001b[0m\u001b[0;34m\u001b[0m\u001b[0;34m\u001b[0m\u001b[0m\n",
      "\u001b[0;32m~/opt/anaconda3/lib/python3.9/site-packages/pandas/core/generic.py\u001b[0m in \u001b[0;36mastype\u001b[0;34m(self, dtype, copy, errors)\u001b[0m\n\u001b[1;32m   5813\u001b[0m         \u001b[0;32melse\u001b[0m\u001b[0;34m:\u001b[0m\u001b[0;34m\u001b[0m\u001b[0;34m\u001b[0m\u001b[0m\n\u001b[1;32m   5814\u001b[0m             \u001b[0;31m# else, only a single dtype is given\u001b[0m\u001b[0;34m\u001b[0m\u001b[0;34m\u001b[0m\u001b[0m\n\u001b[0;32m-> 5815\u001b[0;31m             \u001b[0mnew_data\u001b[0m \u001b[0;34m=\u001b[0m \u001b[0mself\u001b[0m\u001b[0;34m.\u001b[0m\u001b[0m_mgr\u001b[0m\u001b[0;34m.\u001b[0m\u001b[0mastype\u001b[0m\u001b[0;34m(\u001b[0m\u001b[0mdtype\u001b[0m\u001b[0;34m=\u001b[0m\u001b[0mdtype\u001b[0m\u001b[0;34m,\u001b[0m \u001b[0mcopy\u001b[0m\u001b[0;34m=\u001b[0m\u001b[0mcopy\u001b[0m\u001b[0;34m,\u001b[0m \u001b[0merrors\u001b[0m\u001b[0;34m=\u001b[0m\u001b[0merrors\u001b[0m\u001b[0;34m)\u001b[0m\u001b[0;34m\u001b[0m\u001b[0;34m\u001b[0m\u001b[0m\n\u001b[0m\u001b[1;32m   5816\u001b[0m             \u001b[0;32mreturn\u001b[0m \u001b[0mself\u001b[0m\u001b[0;34m.\u001b[0m\u001b[0m_constructor\u001b[0m\u001b[0;34m(\u001b[0m\u001b[0mnew_data\u001b[0m\u001b[0;34m)\u001b[0m\u001b[0;34m.\u001b[0m\u001b[0m__finalize__\u001b[0m\u001b[0;34m(\u001b[0m\u001b[0mself\u001b[0m\u001b[0;34m,\u001b[0m \u001b[0mmethod\u001b[0m\u001b[0;34m=\u001b[0m\u001b[0;34m\"astype\"\u001b[0m\u001b[0;34m)\u001b[0m\u001b[0;34m\u001b[0m\u001b[0;34m\u001b[0m\u001b[0m\n\u001b[1;32m   5817\u001b[0m \u001b[0;34m\u001b[0m\u001b[0m\n",
      "\u001b[0;32m~/opt/anaconda3/lib/python3.9/site-packages/pandas/core/internals/managers.py\u001b[0m in \u001b[0;36mastype\u001b[0;34m(self, dtype, copy, errors)\u001b[0m\n\u001b[1;32m    416\u001b[0m \u001b[0;34m\u001b[0m\u001b[0m\n\u001b[1;32m    417\u001b[0m     \u001b[0;32mdef\u001b[0m \u001b[0mastype\u001b[0m\u001b[0;34m(\u001b[0m\u001b[0mself\u001b[0m\u001b[0;34m:\u001b[0m \u001b[0mT\u001b[0m\u001b[0;34m,\u001b[0m \u001b[0mdtype\u001b[0m\u001b[0;34m,\u001b[0m \u001b[0mcopy\u001b[0m\u001b[0;34m:\u001b[0m \u001b[0mbool\u001b[0m \u001b[0;34m=\u001b[0m \u001b[0;32mFalse\u001b[0m\u001b[0;34m,\u001b[0m \u001b[0merrors\u001b[0m\u001b[0;34m:\u001b[0m \u001b[0mstr\u001b[0m \u001b[0;34m=\u001b[0m \u001b[0;34m\"raise\"\u001b[0m\u001b[0;34m)\u001b[0m \u001b[0;34m->\u001b[0m \u001b[0mT\u001b[0m\u001b[0;34m:\u001b[0m\u001b[0;34m\u001b[0m\u001b[0;34m\u001b[0m\u001b[0m\n\u001b[0;32m--> 418\u001b[0;31m         \u001b[0;32mreturn\u001b[0m \u001b[0mself\u001b[0m\u001b[0;34m.\u001b[0m\u001b[0mapply\u001b[0m\u001b[0;34m(\u001b[0m\u001b[0;34m\"astype\"\u001b[0m\u001b[0;34m,\u001b[0m \u001b[0mdtype\u001b[0m\u001b[0;34m=\u001b[0m\u001b[0mdtype\u001b[0m\u001b[0;34m,\u001b[0m \u001b[0mcopy\u001b[0m\u001b[0;34m=\u001b[0m\u001b[0mcopy\u001b[0m\u001b[0;34m,\u001b[0m \u001b[0merrors\u001b[0m\u001b[0;34m=\u001b[0m\u001b[0merrors\u001b[0m\u001b[0;34m)\u001b[0m\u001b[0;34m\u001b[0m\u001b[0;34m\u001b[0m\u001b[0m\n\u001b[0m\u001b[1;32m    419\u001b[0m \u001b[0;34m\u001b[0m\u001b[0m\n\u001b[1;32m    420\u001b[0m     def convert(\n",
      "\u001b[0;32m~/opt/anaconda3/lib/python3.9/site-packages/pandas/core/internals/managers.py\u001b[0m in \u001b[0;36mapply\u001b[0;34m(self, f, align_keys, ignore_failures, **kwargs)\u001b[0m\n\u001b[1;32m    325\u001b[0m                     \u001b[0mapplied\u001b[0m \u001b[0;34m=\u001b[0m \u001b[0mb\u001b[0m\u001b[0;34m.\u001b[0m\u001b[0mapply\u001b[0m\u001b[0;34m(\u001b[0m\u001b[0mf\u001b[0m\u001b[0;34m,\u001b[0m \u001b[0;34m**\u001b[0m\u001b[0mkwargs\u001b[0m\u001b[0;34m)\u001b[0m\u001b[0;34m\u001b[0m\u001b[0;34m\u001b[0m\u001b[0m\n\u001b[1;32m    326\u001b[0m                 \u001b[0;32melse\u001b[0m\u001b[0;34m:\u001b[0m\u001b[0;34m\u001b[0m\u001b[0;34m\u001b[0m\u001b[0m\n\u001b[0;32m--> 327\u001b[0;31m                     \u001b[0mapplied\u001b[0m \u001b[0;34m=\u001b[0m \u001b[0mgetattr\u001b[0m\u001b[0;34m(\u001b[0m\u001b[0mb\u001b[0m\u001b[0;34m,\u001b[0m \u001b[0mf\u001b[0m\u001b[0;34m)\u001b[0m\u001b[0;34m(\u001b[0m\u001b[0;34m**\u001b[0m\u001b[0mkwargs\u001b[0m\u001b[0;34m)\u001b[0m\u001b[0;34m\u001b[0m\u001b[0;34m\u001b[0m\u001b[0m\n\u001b[0m\u001b[1;32m    328\u001b[0m             \u001b[0;32mexcept\u001b[0m \u001b[0;34m(\u001b[0m\u001b[0mTypeError\u001b[0m\u001b[0;34m,\u001b[0m \u001b[0mNotImplementedError\u001b[0m\u001b[0;34m)\u001b[0m\u001b[0;34m:\u001b[0m\u001b[0;34m\u001b[0m\u001b[0;34m\u001b[0m\u001b[0m\n\u001b[1;32m    329\u001b[0m                 \u001b[0;32mif\u001b[0m \u001b[0;32mnot\u001b[0m \u001b[0mignore_failures\u001b[0m\u001b[0;34m:\u001b[0m\u001b[0;34m\u001b[0m\u001b[0;34m\u001b[0m\u001b[0m\n",
      "\u001b[0;32m~/opt/anaconda3/lib/python3.9/site-packages/pandas/core/internals/blocks.py\u001b[0m in \u001b[0;36mastype\u001b[0;34m(self, dtype, copy, errors)\u001b[0m\n\u001b[1;32m    589\u001b[0m         \u001b[0mvalues\u001b[0m \u001b[0;34m=\u001b[0m \u001b[0mself\u001b[0m\u001b[0;34m.\u001b[0m\u001b[0mvalues\u001b[0m\u001b[0;34m\u001b[0m\u001b[0;34m\u001b[0m\u001b[0m\n\u001b[1;32m    590\u001b[0m \u001b[0;34m\u001b[0m\u001b[0m\n\u001b[0;32m--> 591\u001b[0;31m         \u001b[0mnew_values\u001b[0m \u001b[0;34m=\u001b[0m \u001b[0mastype_array_safe\u001b[0m\u001b[0;34m(\u001b[0m\u001b[0mvalues\u001b[0m\u001b[0;34m,\u001b[0m \u001b[0mdtype\u001b[0m\u001b[0;34m,\u001b[0m \u001b[0mcopy\u001b[0m\u001b[0;34m=\u001b[0m\u001b[0mcopy\u001b[0m\u001b[0;34m,\u001b[0m \u001b[0merrors\u001b[0m\u001b[0;34m=\u001b[0m\u001b[0merrors\u001b[0m\u001b[0;34m)\u001b[0m\u001b[0;34m\u001b[0m\u001b[0;34m\u001b[0m\u001b[0m\n\u001b[0m\u001b[1;32m    592\u001b[0m \u001b[0;34m\u001b[0m\u001b[0m\n\u001b[1;32m    593\u001b[0m         \u001b[0mnew_values\u001b[0m \u001b[0;34m=\u001b[0m \u001b[0mmaybe_coerce_values\u001b[0m\u001b[0;34m(\u001b[0m\u001b[0mnew_values\u001b[0m\u001b[0;34m)\u001b[0m\u001b[0;34m\u001b[0m\u001b[0;34m\u001b[0m\u001b[0m\n",
      "\u001b[0;32m~/opt/anaconda3/lib/python3.9/site-packages/pandas/core/dtypes/cast.py\u001b[0m in \u001b[0;36mastype_array_safe\u001b[0;34m(values, dtype, copy, errors)\u001b[0m\n\u001b[1;32m   1307\u001b[0m \u001b[0;34m\u001b[0m\u001b[0m\n\u001b[1;32m   1308\u001b[0m     \u001b[0;32mtry\u001b[0m\u001b[0;34m:\u001b[0m\u001b[0;34m\u001b[0m\u001b[0;34m\u001b[0m\u001b[0m\n\u001b[0;32m-> 1309\u001b[0;31m         \u001b[0mnew_values\u001b[0m \u001b[0;34m=\u001b[0m \u001b[0mastype_array\u001b[0m\u001b[0;34m(\u001b[0m\u001b[0mvalues\u001b[0m\u001b[0;34m,\u001b[0m \u001b[0mdtype\u001b[0m\u001b[0;34m,\u001b[0m \u001b[0mcopy\u001b[0m\u001b[0;34m=\u001b[0m\u001b[0mcopy\u001b[0m\u001b[0;34m)\u001b[0m\u001b[0;34m\u001b[0m\u001b[0;34m\u001b[0m\u001b[0m\n\u001b[0m\u001b[1;32m   1310\u001b[0m     \u001b[0;32mexcept\u001b[0m \u001b[0;34m(\u001b[0m\u001b[0mValueError\u001b[0m\u001b[0;34m,\u001b[0m \u001b[0mTypeError\u001b[0m\u001b[0;34m)\u001b[0m\u001b[0;34m:\u001b[0m\u001b[0;34m\u001b[0m\u001b[0;34m\u001b[0m\u001b[0m\n\u001b[1;32m   1311\u001b[0m         \u001b[0;31m# e.g. astype_nansafe can fail on object-dtype of strings\u001b[0m\u001b[0;34m\u001b[0m\u001b[0;34m\u001b[0m\u001b[0m\n",
      "\u001b[0;32m~/opt/anaconda3/lib/python3.9/site-packages/pandas/core/dtypes/cast.py\u001b[0m in \u001b[0;36mastype_array\u001b[0;34m(values, dtype, copy)\u001b[0m\n\u001b[1;32m   1255\u001b[0m \u001b[0;34m\u001b[0m\u001b[0m\n\u001b[1;32m   1256\u001b[0m     \u001b[0;32melse\u001b[0m\u001b[0;34m:\u001b[0m\u001b[0;34m\u001b[0m\u001b[0;34m\u001b[0m\u001b[0m\n\u001b[0;32m-> 1257\u001b[0;31m         \u001b[0mvalues\u001b[0m \u001b[0;34m=\u001b[0m \u001b[0mastype_nansafe\u001b[0m\u001b[0;34m(\u001b[0m\u001b[0mvalues\u001b[0m\u001b[0;34m,\u001b[0m \u001b[0mdtype\u001b[0m\u001b[0;34m,\u001b[0m \u001b[0mcopy\u001b[0m\u001b[0;34m=\u001b[0m\u001b[0mcopy\u001b[0m\u001b[0;34m)\u001b[0m\u001b[0;34m\u001b[0m\u001b[0;34m\u001b[0m\u001b[0m\n\u001b[0m\u001b[1;32m   1258\u001b[0m \u001b[0;34m\u001b[0m\u001b[0m\n\u001b[1;32m   1259\u001b[0m     \u001b[0;31m# in pandas we don't store numpy str dtypes, so convert to object\u001b[0m\u001b[0;34m\u001b[0m\u001b[0;34m\u001b[0m\u001b[0m\n",
      "\u001b[0;32m~/opt/anaconda3/lib/python3.9/site-packages/pandas/core/dtypes/cast.py\u001b[0m in \u001b[0;36mastype_nansafe\u001b[0;34m(arr, dtype, copy, skipna)\u001b[0m\n\u001b[1;32m   1172\u001b[0m         \u001b[0;31m# work around NumPy brokenness, #1987\u001b[0m\u001b[0;34m\u001b[0m\u001b[0;34m\u001b[0m\u001b[0m\n\u001b[1;32m   1173\u001b[0m         \u001b[0;32mif\u001b[0m \u001b[0mnp\u001b[0m\u001b[0;34m.\u001b[0m\u001b[0missubdtype\u001b[0m\u001b[0;34m(\u001b[0m\u001b[0mdtype\u001b[0m\u001b[0;34m.\u001b[0m\u001b[0mtype\u001b[0m\u001b[0;34m,\u001b[0m \u001b[0mnp\u001b[0m\u001b[0;34m.\u001b[0m\u001b[0minteger\u001b[0m\u001b[0;34m)\u001b[0m\u001b[0;34m:\u001b[0m\u001b[0;34m\u001b[0m\u001b[0;34m\u001b[0m\u001b[0m\n\u001b[0;32m-> 1174\u001b[0;31m             \u001b[0;32mreturn\u001b[0m \u001b[0mlib\u001b[0m\u001b[0;34m.\u001b[0m\u001b[0mastype_intsafe\u001b[0m\u001b[0;34m(\u001b[0m\u001b[0marr\u001b[0m\u001b[0;34m,\u001b[0m \u001b[0mdtype\u001b[0m\u001b[0;34m)\u001b[0m\u001b[0;34m\u001b[0m\u001b[0;34m\u001b[0m\u001b[0m\n\u001b[0m\u001b[1;32m   1175\u001b[0m \u001b[0;34m\u001b[0m\u001b[0m\n\u001b[1;32m   1176\u001b[0m         \u001b[0;31m# if we have a datetime/timedelta array of objects\u001b[0m\u001b[0;34m\u001b[0m\u001b[0;34m\u001b[0m\u001b[0m\n",
      "\u001b[0;32m~/opt/anaconda3/lib/python3.9/site-packages/pandas/_libs/lib.pyx\u001b[0m in \u001b[0;36mpandas._libs.lib.astype_intsafe\u001b[0;34m()\u001b[0m\n",
      "\u001b[0;31mValueError\u001b[0m: invalid literal for int() with base 10: 'sa3014423'"
     ]
    }
   ],
   "source": [
    "# Drop rows with NA values in the 'PlayerId' column\n",
    "command_grades.dropna(subset=['PlayerId'], inplace=True)\n",
    "\n",
    "# Convert 'PlayerId' column to integer\n",
    "command_grades['PlayerId'] = command_grades['PlayerId'].astype(int)\n",
    "\n",
    "# Merge the DataFrames\n",
    "merge_df = ranked_pitchers_weighted.merge(command_grades, left_on='matchup.pitcher.id', right_on='PlayerId')\n"
   ]
  },
  {
   "cell_type": "code",
   "execution_count": 48,
   "id": "48e10cb2",
   "metadata": {},
   "outputs": [
    {
     "data": {
      "text/plain": [
       "36         21894\n",
       "33         22264\n",
       "371        24750\n",
       "76         26270\n",
       "590    sa3002982\n",
       "522        21366\n",
       "82     sa3014428\n",
       "361    sa3004736\n",
       "322        18769\n",
       "155    sa3014538\n",
       "Name: PlayerId, dtype: object"
      ]
     },
     "execution_count": 48,
     "metadata": {},
     "output_type": "execute_result"
    }
   ],
   "source": [
    "command_grades['PlayerId'].sample(10)"
   ]
  },
  {
   "cell_type": "code",
   "execution_count": null,
   "id": "fd78744e",
   "metadata": {},
   "outputs": [],
   "source": []
  }
 ],
 "metadata": {
  "kernelspec": {
   "display_name": "Python 3 (ipykernel)",
   "language": "python",
   "name": "python3"
  },
  "language_info": {
   "codemirror_mode": {
    "name": "ipython",
    "version": 3
   },
   "file_extension": ".py",
   "mimetype": "text/x-python",
   "name": "python",
   "nbconvert_exporter": "python",
   "pygments_lexer": "ipython3",
   "version": "3.9.7"
  }
 },
 "nbformat": 4,
 "nbformat_minor": 5
}
