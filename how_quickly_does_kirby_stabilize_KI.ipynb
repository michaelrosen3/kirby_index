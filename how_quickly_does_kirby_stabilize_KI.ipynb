{
 "cells": [
  {
   "cell_type": "code",
   "execution_count": 1,
   "id": "3ca73563",
   "metadata": {},
   "outputs": [],
   "source": [
    "import pandas as pd\n",
    "import numpy as np\n",
    "import pybaseball as pyb\n",
    "import matplotlib.pyplot as plt\n",
    "import seaborn as sns\n",
    "from math import sqrt, atan2, degrees, pi, atan\n",
    "from scipy.stats import percentileofscore"
   ]
  },
  {
   "cell_type": "code",
   "execution_count": 2,
   "id": "7b1fd987",
   "metadata": {},
   "outputs": [
    {
     "name": "stdout",
     "output_type": "stream",
     "text": [
      "This is a large query, it may take a moment to complete\n"
     ]
    },
    {
     "name": "stderr",
     "output_type": "stream",
     "text": [
      "/Users/michaelrosen/opt/anaconda3/lib/python3.9/site-packages/pybaseball/statcast.py:50: UserWarning: \n",
      "That's a nice request you got there. It'd be a shame if something were to happen to it.\n",
      "We strongly recommend that you enable caching before running this. It's as simple as `pybaseball.cache.enable()`.\n",
      "Since the Statcast requests can take a *really* long time to run, if something were to happen, like: a disconnect;\n",
      "gremlins; computer repair by associates of Rudy Giuliani; electromagnetic interference from metal trash cans; etc.;\n",
      "you could lose a lot of progress. Enabling caching will allow you to immediately recover all the successful\n",
      "subqueries if that happens.\n",
      "  warnings.warn(_OVERSIZE_WARNING)\n",
      "100%|█████████████████████████████████████████| 186/186 [02:32<00:00,  1.22it/s]\n"
     ]
    }
   ],
   "source": [
    "statcast_data = pyb.statcast(start_dt='2023-03-30', end_dt='2023-10-01')"
   ]
  },
  {
   "cell_type": "code",
   "execution_count": 3,
   "id": "628c1bea",
   "metadata": {},
   "outputs": [],
   "source": [
    "fastballs = statcast_data[statcast_data['pitch_type'].isin(['FF'])]"
   ]
  },
  {
   "cell_type": "code",
   "execution_count": 4,
   "id": "8e228206",
   "metadata": {
    "scrolled": true
   },
   "outputs": [
    {
     "name": "stderr",
     "output_type": "stream",
     "text": [
      "/Users/michaelrosen/opt/anaconda3/lib/python3.9/site-packages/pandas/util/_decorators.py:311: SettingWithCopyWarning: \n",
      "A value is trying to be set on a copy of a slice from a DataFrame\n",
      "\n",
      "See the caveats in the documentation: https://pandas.pydata.org/pandas-docs/stable/user_guide/indexing.html#returning-a-view-versus-a-copy\n",
      "  return func(*args, **kwargs)\n"
     ]
    }
   ],
   "source": [
    "fastballs.dropna(subset=['vy0'], inplace=True)"
   ]
  },
  {
   "cell_type": "code",
   "execution_count": 5,
   "id": "797ac226",
   "metadata": {},
   "outputs": [],
   "source": [
    "fastballs.dropna(subset=['release_extension'], inplace=True)"
   ]
  },
  {
   "cell_type": "code",
   "execution_count": 6,
   "id": "6e6b95c6",
   "metadata": {},
   "outputs": [
    {
     "name": "stderr",
     "output_type": "stream",
     "text": [
      "/var/folders/bf/7kjr62fs6wq3x9hlt0xsr0w40000gn/T/ipykernel_32718/2112343944.py:15: SettingWithCopyWarning: \n",
      "A value is trying to be set on a copy of a slice from a DataFrame.\n",
      "Try using .loc[row_indexer,col_indexer] = value instead\n",
      "\n",
      "See the caveats in the documentation: https://pandas.pydata.org/pandas-docs/stable/user_guide/indexing.html#returning-a-view-versus-a-copy\n",
      "  fastballs['VRA'] = fastballs.apply(lambda x: calculate_VRA(x['vy0'], x['ay'], x['release_extension'], x['vz0'], x['az']), axis=1)\n",
      "/var/folders/bf/7kjr62fs6wq3x9hlt0xsr0w40000gn/T/ipykernel_32718/2112343944.py:16: SettingWithCopyWarning: \n",
      "A value is trying to be set on a copy of a slice from a DataFrame.\n",
      "Try using .loc[row_indexer,col_indexer] = value instead\n",
      "\n",
      "See the caveats in the documentation: https://pandas.pydata.org/pandas-docs/stable/user_guide/indexing.html#returning-a-view-versus-a-copy\n",
      "  fastballs['HRA'] = fastballs.apply(lambda x: calculate_HRA(x['vy0'], x['ay'], x['release_extension'], x['vx0'], x['ax']), axis=1)\n"
     ]
    }
   ],
   "source": [
    "def calculate_VRA(vy0, ay, release_extension, vz0, az):\n",
    "    vy_s = -np.sqrt(vy0**2 - 2 * ay * (60.5 - release_extension - 50))\n",
    "    t_s = (vy_s - vy0) / ay\n",
    "    vz_s = vz0 - az * t_s\n",
    "    VRA = -np.arctan(vz_s / vy_s) * (180 / np.pi)\n",
    "    return VRA\n",
    "\n",
    "def calculate_HRA(vy0, ay, release_extension, vx0, ax):\n",
    "    vy_s = -np.sqrt(vy0**2 - 2 * ay * (60.5 - release_extension - 50))\n",
    "    t_s = (vy_s - vy0) / ay\n",
    "    vx_s = vx0 - ax * t_s\n",
    "    HRA = -np.arctan(vx_s / vy_s) * (180 / np.pi)\n",
    "    return HRA\n",
    "\n",
    "fastballs['VRA'] = fastballs.apply(lambda x: calculate_VRA(x['vy0'], x['ay'], x['release_extension'], x['vz0'], x['az']), axis=1)\n",
    "fastballs['HRA'] = fastballs.apply(lambda x: calculate_HRA(x['vy0'], x['ay'], x['release_extension'], x['vx0'], x['ax']), axis=1)"
   ]
  },
  {
   "cell_type": "code",
   "execution_count": 7,
   "id": "f7023580",
   "metadata": {},
   "outputs": [
    {
     "name": "stderr",
     "output_type": "stream",
     "text": [
      "/var/folders/bf/7kjr62fs6wq3x9hlt0xsr0w40000gn/T/ipykernel_32718/935682892.py:1: SettingWithCopyWarning: \n",
      "A value is trying to be set on a copy of a slice from a DataFrame.\n",
      "Try using .loc[row_indexer,col_indexer] = value instead\n",
      "\n",
      "See the caveats in the documentation: https://pandas.pydata.org/pandas-docs/stable/user_guide/indexing.html#returning-a-view-versus-a-copy\n",
      "  fastballs['VRA'] = pd.to_numeric(fastballs['VRA'], errors='coerce')\n",
      "/var/folders/bf/7kjr62fs6wq3x9hlt0xsr0w40000gn/T/ipykernel_32718/935682892.py:2: SettingWithCopyWarning: \n",
      "A value is trying to be set on a copy of a slice from a DataFrame.\n",
      "Try using .loc[row_indexer,col_indexer] = value instead\n",
      "\n",
      "See the caveats in the documentation: https://pandas.pydata.org/pandas-docs/stable/user_guide/indexing.html#returning-a-view-versus-a-copy\n",
      "  fastballs['HRA'] = pd.to_numeric(fastballs['HRA'], errors='coerce')\n"
     ]
    }
   ],
   "source": [
    "fastballs['VRA'] = pd.to_numeric(fastballs['VRA'], errors='coerce')\n",
    "fastballs['HRA'] = pd.to_numeric(fastballs['HRA'], errors='coerce')"
   ]
  },
  {
   "cell_type": "code",
   "execution_count": 8,
   "id": "63663129",
   "metadata": {},
   "outputs": [
    {
     "name": "stderr",
     "output_type": "stream",
     "text": [
      "/var/folders/bf/7kjr62fs6wq3x9hlt0xsr0w40000gn/T/ipykernel_32718/4165265084.py:9: SettingWithCopyWarning: \n",
      "A value is trying to be set on a copy of a slice from a DataFrame.\n",
      "Try using .loc[row_indexer,col_indexer] = value instead\n",
      "\n",
      "See the caveats in the documentation: https://pandas.pydata.org/pandas-docs/stable/user_guide/indexing.html#returning-a-view-versus-a-copy\n",
      "  qualified_fastballs['VRA_std_dev'] = qualified_fastballs.groupby(['game_date', 'player_name'])['VRA'].transform('std')\n"
     ]
    }
   ],
   "source": [
    "filtered_fastballs = fastballs.groupby(['game_date', 'player_name']).filter(lambda x: len(x) >= 25)\n",
    "\n",
    "pitcher_game_dates = filtered_fastballs.groupby('player_name')['game_date'].nunique()\n",
    "\n",
    "qualified_pitchers = pitcher_game_dates[pitcher_game_dates >= 10].index\n",
    "\n",
    "qualified_fastballs = filtered_fastballs[filtered_fastballs['player_name'].isin(qualified_pitchers)]\n",
    "\n",
    "qualified_fastballs['VRA_std_dev'] = qualified_fastballs.groupby(['game_date', 'player_name'])['VRA'].transform('std')\n",
    "\n",
    "pitcher_stats = qualified_fastballs.groupby('player_name')['VRA_std_dev'].agg(['max', 'min']).reset_index()\n",
    "\n",
    "pitcher_stats['diff_max_min'] = pitcher_stats['max'] - pitcher_stats['min']\n"
   ]
  },
  {
   "cell_type": "code",
   "execution_count": 9,
   "id": "43fa9310",
   "metadata": {},
   "outputs": [],
   "source": [
    "sorted_pitcher_stats = pitcher_stats.sort_values('diff_max_min', ascending=False)"
   ]
  },
  {
   "cell_type": "code",
   "execution_count": 11,
   "id": "5262a354",
   "metadata": {},
   "outputs": [],
   "source": [
    "mean_std_dev_per_pitcher = qualified_fastballs.groupby('player_name')['VRA_std_dev'].mean().reset_index()"
   ]
  },
  {
   "cell_type": "code",
   "execution_count": 12,
   "id": "ead4c4f0",
   "metadata": {},
   "outputs": [],
   "source": [
    "new_df = sorted_pitcher_stats.merge(mean_std_dev_per_pitcher, on='player_name')"
   ]
  },
  {
   "cell_type": "code",
   "execution_count": 13,
   "id": "fc3ed8ee",
   "metadata": {},
   "outputs": [
    {
     "name": "stdout",
     "output_type": "stream",
     "text": [
      "Median of diff_max_min in new_df: 0.39664901747962333\n"
     ]
    }
   ],
   "source": [
    "median_vra_std_dev = new_df['diff_max_min'].median()\n",
    "print(\"Median of diff_max_min in new_df:\", median_vra_std_dev)\n"
   ]
  },
  {
   "cell_type": "code",
   "execution_count": 14,
   "id": "bf5b631d",
   "metadata": {},
   "outputs": [
    {
     "name": "stdout",
     "output_type": "stream",
     "text": [
      "[0.74944581 0.69111439 0.59672513 0.67760339 0.7309817  0.65010568\n",
      " 0.69715683 0.76486561 0.65497299 0.56628291 0.57170631 0.62494174\n",
      " 0.65678368 0.73687012 0.87766006 0.75146994 0.6388492  0.69446464\n",
      " 0.73852342 0.71698988 0.7333343  0.76021599 0.78163044 0.76557624\n",
      " 0.65260004]\n"
     ]
    }
   ],
   "source": [
    "kirby_data = qualified_fastballs[qualified_fastballs['player_name'] == 'Kirby, George']\n",
    "\n",
    "kirby_grouped = kirby_data.groupby('game_date')['VRA_std_dev'].mean()\n",
    "\n",
    "vra_std_dev_values = kirby_grouped.values\n",
    "\n",
    "window_size = 2  # Adjust window size as needed\n",
    "\n",
    "moving_averages = np.convolve(vra_std_dev_values, np.ones(window_size)/window_size, mode='valid')\n",
    "\n",
    "print(moving_averages)\n"
   ]
  },
  {
   "cell_type": "code",
   "execution_count": 15,
   "id": "4f17692f",
   "metadata": {},
   "outputs": [],
   "source": [
    "filtered_fastballs = qualified_fastballs.groupby(['game_date', 'player_name']).filter(lambda x: len(x) >= 25)\n",
    "\n",
    "pitcher_game_dates = filtered_fastballs.groupby('player_name')['game_date'].nunique()\n",
    "\n",
    "qualified_pitchers = pitcher_game_dates[pitcher_game_dates >= 10].index\n",
    "\n",
    "qualified_fastballs = filtered_fastballs[filtered_fastballs['player_name'].isin(qualified_pitchers)]\n",
    "\n",
    "grouped_data = qualified_fastballs.groupby(['game_date', 'player_name'])['VRA_std_dev'].mean().reset_index()\n",
    "\n",
    "grouped_data['rolling_avg_2game'] = grouped_data.groupby('player_name')['VRA_std_dev'].shift(-1)\n",
    "grouped_data['rolling_avg_2game'] = (grouped_data['rolling_avg_2game'] + grouped_data['VRA_std_dev']) / 2\n",
    "\n",
    "pitcher_stats = grouped_data.groupby('player_name')['rolling_avg_2game'].agg(['max', 'min']).reset_index()\n"
   ]
  },
  {
   "cell_type": "code",
   "execution_count": 16,
   "id": "b44405f2",
   "metadata": {},
   "outputs": [],
   "source": [
    "pitcher_stats['diff_max_min'] = pitcher_stats['max'] - pitcher_stats['min']"
   ]
  },
  {
   "cell_type": "code",
   "execution_count": 17,
   "id": "cb04d044",
   "metadata": {},
   "outputs": [],
   "source": [
    "george_kirby_stats = pitcher_stats[pitcher_stats['player_name'] == 'Kirby, George']"
   ]
  },
  {
   "cell_type": "code",
   "execution_count": 18,
   "id": "1b1421aa",
   "metadata": {},
   "outputs": [
    {
     "name": "stdout",
     "output_type": "stream",
     "text": [
      "Median of diff_max_min in new_df: 0.26466340127654836\n"
     ]
    }
   ],
   "source": [
    "median_vra_std_dev_rolling = pitcher_stats['diff_max_min'].median()\n",
    "print(\"Median of diff_max_min in new_df:\", median_vra_std_dev_rolling)\n"
   ]
  },
  {
   "cell_type": "code",
   "execution_count": 19,
   "id": "9efd3e44",
   "metadata": {},
   "outputs": [],
   "source": [
    "new_df_rolling = pitcher_stats.merge(mean_std_dev_per_pitcher, on='player_name')"
   ]
  },
  {
   "cell_type": "code",
   "execution_count": 20,
   "id": "3de57b40",
   "metadata": {},
   "outputs": [],
   "source": [
    "new_df_rolling = new_df_rolling.sort_values('diff_max_min', ascending=False)"
   ]
  }
 ],
 "metadata": {
  "kernelspec": {
   "display_name": "Python 3 (ipykernel)",
   "language": "python",
   "name": "python3"
  },
  "language_info": {
   "codemirror_mode": {
    "name": "ipython",
    "version": 3
   },
   "file_extension": ".py",
   "mimetype": "text/x-python",
   "name": "python",
   "nbconvert_exporter": "python",
   "pygments_lexer": "ipython3",
   "version": "3.9.7"
  }
 },
 "nbformat": 4,
 "nbformat_minor": 5
}
